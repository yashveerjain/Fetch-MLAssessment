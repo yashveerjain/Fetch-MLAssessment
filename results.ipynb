{
 "cells": [
  {
   "cell_type": "markdown",
   "metadata": {},
   "source": [
    "# Fetch Assessment"
   ]
  },
  {
   "cell_type": "code",
   "execution_count": 1,
   "metadata": {},
   "outputs": [],
   "source": [
    "from utils import *\n",
    "from dataset import *"
   ]
  },
  {
   "cell_type": "code",
   "execution_count": 2,
   "metadata": {},
   "outputs": [
    {
     "name": "stderr",
     "output_type": "stream",
     "text": [
      "Using cache found in C:\\Users\\yashv/.cache\\torch\\hub\\huggingface_pytorch-transformers_main\n"
     ]
    }
   ],
   "source": [
    "dataset = TaskDataset(data=None)"
   ]
  },
  {
   "cell_type": "markdown",
   "metadata": {},
   "source": [
    "# Task 1\n",
    "Sentence Embedding Model, architecture:\n",
    " - Embedding Layer \n",
    " - Positional Encoding\n",
    " - Transformer Encoder Layer\n",
    " - Mean Pooling\n",
    " - Linear Layer (generates embedding)"
   ]
  },
  {
   "cell_type": "code",
   "execution_count": 3,
   "metadata": {},
   "outputs": [],
   "source": [
    "# initialize models\n",
    "n_layers = 1 # The number of transformer encoder layers\n",
    "d_model = 512 # The input embedding dimension\n",
    "embed_size = 300 # The output embedding size\n",
    "nhead = 8 # The number of attention heads in encoder layer\n",
    "task_type = \"se\" # The type of task (sentence embedding or sentiment classification)\n",
    "vocab_size = dataset.vocab_size # The size of the vocabulary (using hugging face bert tokenizer)\n",
    "base_model, se_task_model = init_model(vocab_size, n_layers, d_model, nhead, embed_size, task_type)"
   ]
  },
  {
   "cell_type": "code",
   "execution_count": 4,
   "metadata": {},
   "outputs": [
    {
     "name": "stdout",
     "output_type": "stream",
     "text": [
      "Base model output: torch.Size([2, 100, 512])\n",
      "Task model output: torch.Size([2, 300])\n",
      "Base model output 1: torch.Size([1, 7, 512])\n",
      "Base model output 2: torch.Size([1, 5, 512])\n",
      "Task model output 1: torch.Size([1, 300])\n",
      "Task model output 2: torch.Size([1, 300])\n",
      "Task model output 2: tensor([[-0.0981,  0.0113,  0.0783, -0.0984, -0.1121,  0.0839, -0.0039, -0.0043,\n",
      "         -0.0016, -0.0034, -0.0087, -0.0402,  0.1083, -0.0036,  0.0044,  0.0531,\n",
      "         -0.0384, -0.0287, -0.0513, -0.0299,  0.0021, -0.1606,  0.0202,  0.0958,\n",
      "         -0.0749, -0.0230, -0.0574,  0.0605,  0.0416, -0.0383,  0.0436, -0.1180,\n",
      "          0.0140, -0.0155, -0.0188,  0.0909,  0.0620, -0.0758,  0.1260,  0.0193,\n",
      "         -0.0019,  0.1674,  0.0666, -0.1502, -0.0950, -0.0204,  0.0168,  0.0302,\n",
      "         -0.0038,  0.0521,  0.0924,  0.0821,  0.0929,  0.0542, -0.0457,  0.0146,\n",
      "         -0.0209, -0.0112,  0.0023, -0.0243, -0.0911,  0.0149, -0.0301, -0.0309,\n",
      "          0.0569, -0.0143, -0.0088, -0.0308, -0.0692,  0.0741, -0.0068,  0.0325,\n",
      "          0.0500, -0.0097, -0.0314,  0.1507, -0.0640, -0.0213,  0.0459, -0.0700,\n",
      "         -0.0151,  0.0041, -0.0468, -0.0503, -0.1093,  0.0301,  0.0306, -0.0590,\n",
      "          0.0147, -0.0032,  0.0272, -0.0137,  0.0425,  0.0510,  0.0562, -0.0180,\n",
      "          0.0377,  0.0018, -0.0216, -0.0437,  0.0298, -0.1251, -0.0395, -0.0327,\n",
      "          0.0425, -0.0257,  0.0905,  0.1986, -0.0133,  0.1074,  0.0860, -0.0424,\n",
      "         -0.0433, -0.0149,  0.0210,  0.1090, -0.0393, -0.0297,  0.0432,  0.0136,\n",
      "          0.0194, -0.0448,  0.0324,  0.0610, -0.0170,  0.0401,  0.0040,  0.0175,\n",
      "         -0.0482, -0.0341,  0.0440,  0.0240,  0.0542,  0.0387, -0.1082, -0.0397,\n",
      "         -0.0192,  0.0365,  0.0122,  0.0477, -0.0608,  0.0239,  0.0137,  0.0872,\n",
      "         -0.0137, -0.0747,  0.0405, -0.0692, -0.0079,  0.0629, -0.0202, -0.0444,\n",
      "         -0.0051,  0.0208, -0.1096, -0.0343, -0.0351,  0.0536,  0.0258,  0.0249,\n",
      "          0.0212, -0.0842,  0.0559, -0.0625, -0.0535, -0.0512,  0.0272, -0.0098,\n",
      "         -0.0489,  0.0029,  0.0313, -0.0272,  0.0548, -0.0721,  0.0192, -0.0856,\n",
      "          0.0874,  0.0041, -0.1059,  0.0007, -0.0704,  0.0168, -0.0105,  0.0348,\n",
      "         -0.0529,  0.0016,  0.0863, -0.0869, -0.0489,  0.0165, -0.0894,  0.0578,\n",
      "         -0.0209, -0.0435,  0.0363, -0.0330,  0.1318,  0.0728, -0.0590,  0.0498,\n",
      "         -0.0259, -0.0840, -0.0380, -0.1118, -0.1087,  0.0896,  0.0366, -0.0079,\n",
      "          0.0097, -0.0923,  0.0206, -0.0149,  0.0023, -0.0384,  0.0428, -0.0219,\n",
      "          0.0317,  0.0931,  0.0601,  0.0467,  0.0427,  0.0103,  0.0597,  0.0531,\n",
      "         -0.0116, -0.0820,  0.0044, -0.0138, -0.0011, -0.0500,  0.0382,  0.0115,\n",
      "         -0.0042,  0.0674, -0.0594, -0.0496,  0.1313, -0.0353, -0.0714, -0.0084,\n",
      "         -0.0068,  0.0453,  0.0354, -0.0708, -0.0273, -0.1688,  0.0493,  0.0008,\n",
      "          0.0460, -0.0693,  0.0601,  0.0540, -0.0823,  0.0078, -0.0569,  0.0235,\n",
      "         -0.0136,  0.0405,  0.0442, -0.0117, -0.0054, -0.0337,  0.0957,  0.0157,\n",
      "         -0.0646, -0.0482,  0.1046, -0.0212, -0.0528,  0.0093, -0.0066,  0.0075,\n",
      "         -0.0223, -0.0476,  0.0042,  0.0095,  0.0060,  0.0065,  0.0374, -0.1411,\n",
      "         -0.0246, -0.0451,  0.0845, -0.0336,  0.0914, -0.0561, -0.0023,  0.0290,\n",
      "         -0.0728, -0.0439,  0.0042, -0.0463,  0.1102,  0.0272,  0.0029,  0.0421,\n",
      "          0.0019,  0.0054, -0.0920,  0.0196]], grad_fn=<DivBackward0>)\n"
     ]
    }
   ],
   "source": [
    "# Generate sample input\n",
    "input_data = torch.randint(0, dataset.vocab_size, (2, 100))\n",
    "\n",
    "# Forward pass\n",
    "base_output = base_model(input_data)\n",
    "task_output = se_task_model(base_output)\n",
    "\n",
    "print(\"Base model output:\", base_output.shape)\n",
    "print(\"Task model output:\", task_output.shape)\n",
    "\n",
    "# Generate input based on text\n",
    "text1 = \"How, are you?\"\n",
    "text2 = \"I am good\"\n",
    "\n",
    "input_data1 = dataset.encode(text1)\n",
    "input_data2 = dataset.encode(text2)\n",
    "\n",
    "# Forward pass\n",
    "base_output1 = base_model(input_data1)\n",
    "base_output2 = base_model(input_data2)\n",
    "task_output1 = se_task_model(base_output1)\n",
    "task_output2 = se_task_model(base_output2)\n",
    "\n",
    "print(\"Base model output 1:\", base_output1.shape)\n",
    "print(\"Base model output 2:\", base_output2.shape)\n",
    "print(\"Task model output 1:\", task_output1.shape)   \n",
    "print(\"Task model output 2:\", task_output2.shape)\n",
    "print(\"Task model output 2:\", task_output2)"
   ]
  },
  {
   "cell_type": "markdown",
   "metadata": {},
   "source": [
    "# Task 2\n",
    "Sentiment Classification Model, architecture:\n",
    " - Embedding Layer\n",
    " - Positional Encoding\n",
    " - Transformer Encoder Layer\n",
    " - Mean Pooling\n",
    " - Linear Layer (3 classes, Positive, Negative, Neutral) ( can be trained using cross entropy loss)"
   ]
  },
  {
   "cell_type": "code",
   "execution_count": 5,
   "metadata": {},
   "outputs": [],
   "source": [
    "task_type = \"sc\"\n",
    "base_model, sc_task_model = init_model(vocab_size, n_layers, d_model, nhead, embed_size, task_type)"
   ]
  },
  {
   "cell_type": "code",
   "execution_count": 6,
   "metadata": {},
   "outputs": [
    {
     "name": "stdout",
     "output_type": "stream",
     "text": [
      "Base model output: torch.Size([2, 100, 512])\n",
      "Task model output: (2, 3)\n",
      "Task model output: [[0.245916   0.42255494 0.33152908]\n",
      " [0.21411856 0.4375086  0.3483728 ]]\n",
      "Base model output 1: torch.Size([1, 7, 512])\n",
      "Base model output 2: torch.Size([1, 5, 512])\n",
      "Task model output 1: (1, 3)\n",
      "Task model output 2: (1, 3)\n"
     ]
    }
   ],
   "source": [
    "# Generate sample input\n",
    "input_data = torch.randint(0, dataset.vocab_size, (2, 100))\n",
    "\n",
    "# Forward pass\n",
    "base_output = base_model(input_data)\n",
    "task_output = sc_task_model(base_output)\n",
    "task_output = nn.Softmax(dim=1)(task_output).detach().numpy()\n",
    "\n",
    "print(\"Base model output:\", base_output.shape)\n",
    "print(\"Task model output:\", task_output.shape)\n",
    "print(\"Task model output:\", task_output)\n",
    "\n",
    "# Generate input based on text\n",
    "text1 = \"How, are you?\"\n",
    "text2 = \"I am good\"\n",
    "\n",
    "input_data1 = dataset.encode(text1)\n",
    "input_data2 = dataset.encode(text2)\n",
    "\n",
    "# Forward pass\n",
    "base_output1 = base_model(input_data1)\n",
    "base_output2 = base_model(input_data2)\n",
    "task_output1 = sc_task_model(base_output1)\n",
    "task_output2 = sc_task_model(base_output2)\n",
    "\n",
    "task_output1 = nn.Softmax(dim=1)(task_output1).detach().numpy()\n",
    "task_output2 = nn.Softmax(dim=1)(task_output2).detach().numpy()\n",
    "\n",
    "print(\"Base model output 1:\", base_output1.shape)\n",
    "print(\"Base model output 2:\", base_output2.shape)\n",
    "print(\"Task model output 1:\", task_output1.shape)   \n",
    "print(\"Task model output 2:\", task_output2.shape)"
   ]
  },
  {
   "cell_type": "code",
   "execution_count": null,
   "metadata": {},
   "outputs": [],
   "source": []
  },
  {
   "cell_type": "markdown",
   "metadata": {},
   "source": [
    "# Task 4\n",
    "\n",
    "Assuming we are training the sentence embedding model, and the sentiment classification model, simulatenously. Then each model can have different learning rates, as well for embedding in transformer will add different learning rate."
   ]
  },
  {
   "cell_type": "markdown",
   "metadata": {},
   "source": [
    "* Embedding Layer: Set a learning rate of 1e-3.\n",
    "  \n",
    "  -  This is a low-level layer responsible for capturing foundational features, so a finer learning rate helps prevent drastic changes that could drift away from good initial representations.\n",
    "* Transformer Layer: Use a learning rate of 5e-3.\n",
    "   \n",
    "   - As a middle layer, this part of the model focuses on generalizing patterns from the dataset. A slightly higher learning rate allows it to adapt faster, helping it develop better generalizations over time.\n",
    "* Sentence Embedding and Sentiment Classification Layers: Set a learning rate of 1e-2.\n",
    "  - These layers capture task-specific, high-level features crucial for task understanding. A higher learning rate here allows faster learning of these details, which is important to avoid long convergence times."
   ]
  },
  {
   "cell_type": "code",
   "execution_count": 7,
   "metadata": {},
   "outputs": [
    {
     "name": "stdout",
     "output_type": "stream",
     "text": [
      "<bound method Module.named_parameters of BaseModel(\n",
      "  (embed): Embedding(30522, 512)\n",
      "  (encoder_layer): TransformerEncoderLayer(\n",
      "    (self_attn): MultiheadAttention(\n",
      "      (out_proj): NonDynamicallyQuantizableLinear(in_features=512, out_features=512, bias=True)\n",
      "    )\n",
      "    (linear1): Linear(in_features=512, out_features=2048, bias=True)\n",
      "    (dropout): Dropout(p=0.1, inplace=False)\n",
      "    (linear2): Linear(in_features=2048, out_features=512, bias=True)\n",
      "    (norm1): LayerNorm((512,), eps=1e-05, elementwise_affine=True)\n",
      "    (norm2): LayerNorm((512,), eps=1e-05, elementwise_affine=True)\n",
      "    (dropout1): Dropout(p=0.1, inplace=False)\n",
      "    (dropout2): Dropout(p=0.1, inplace=False)\n",
      "  )\n",
      "  (encoder): TransformerEncoder(\n",
      "    (layers): ModuleList(\n",
      "      (0): TransformerEncoderLayer(\n",
      "        (self_attn): MultiheadAttention(\n",
      "          (out_proj): NonDynamicallyQuantizableLinear(in_features=512, out_features=512, bias=True)\n",
      "        )\n",
      "        (linear1): Linear(in_features=512, out_features=2048, bias=True)\n",
      "        (dropout): Dropout(p=0.1, inplace=False)\n",
      "        (linear2): Linear(in_features=2048, out_features=512, bias=True)\n",
      "        (norm1): LayerNorm((512,), eps=1e-05, elementwise_affine=True)\n",
      "        (norm2): LayerNorm((512,), eps=1e-05, elementwise_affine=True)\n",
      "        (dropout1): Dropout(p=0.1, inplace=False)\n",
      "        (dropout2): Dropout(p=0.1, inplace=False)\n",
      "      )\n",
      "    )\n",
      "  )\n",
      "  (pos_embed): PositionalEncoding(\n",
      "    (dropout): Dropout(p=0.1, inplace=False)\n",
      "  )\n",
      ")>\n"
     ]
    }
   ],
   "source": [
    "print(base_model.named_parameters)"
   ]
  },
  {
   "cell_type": "code",
   "execution_count": 8,
   "metadata": {},
   "outputs": [],
   "source": [
    "import torch.optim as optim"
   ]
  },
  {
   "cell_type": "code",
   "execution_count": 9,
   "metadata": {},
   "outputs": [
    {
     "ename": "NameError",
     "evalue": "name 'se' is not defined",
     "output_type": "error",
     "traceback": [
      "\u001b[1;31m---------------------------------------------------------------------------\u001b[0m",
      "\u001b[1;31mNameError\u001b[0m                                 Traceback (most recent call last)",
      "Cell \u001b[1;32mIn[9], line 15\u001b[0m\n\u001b[0;32m     11\u001b[0m se_lr \u001b[38;5;241m=\u001b[39m \u001b[38;5;241m1e-2\u001b[39m\n\u001b[0;32m     12\u001b[0m sc_lr \u001b[38;5;241m=\u001b[39m \u001b[38;5;241m1e-2\u001b[39m\n\u001b[0;32m     14\u001b[0m parameters\u001b[38;5;241m.\u001b[39mappend(\n\u001b[1;32m---> 15\u001b[0m     {\u001b[38;5;124m\"\u001b[39m\u001b[38;5;124mparams\u001b[39m\u001b[38;5;124m\"\u001b[39m : \u001b[43mse\u001b[49m\u001b[38;5;241m.\u001b[39mparameters(), \u001b[38;5;124m\"\u001b[39m\u001b[38;5;124mlr\u001b[39m\u001b[38;5;124m\"\u001b[39m : se_lr}\n\u001b[0;32m     16\u001b[0m )\n\u001b[0;32m     18\u001b[0m parameters\u001b[38;5;241m.\u001b[39mappend(\n\u001b[0;32m     19\u001b[0m     {\u001b[38;5;124m\"\u001b[39m\u001b[38;5;124mparams\u001b[39m\u001b[38;5;124m\"\u001b[39m : sc\u001b[38;5;241m.\u001b[39mparameters(), \u001b[38;5;124m\"\u001b[39m\u001b[38;5;124mlr\u001b[39m\u001b[38;5;124m\"\u001b[39m : sc_lr}\n\u001b[0;32m     20\u001b[0m )\n\u001b[0;32m     22\u001b[0m optimizer \u001b[38;5;241m=\u001b[39m optim\u001b[38;5;241m.\u001b[39mAdam(parameters)\n",
      "\u001b[1;31mNameError\u001b[0m: name 'se' is not defined"
     ]
    }
   ],
   "source": [
    "parameters = []\n",
    "base_model_transformer_lr = 5e-3\n",
    "base_model_embedding_lr = 1e-3\n",
    "\n",
    "for name, param in base_model.named_parameters():\n",
    "    if \"embed\" in name:\n",
    "        parameters.append({\"params\": param, \"lr\": base_model_embedding_lr})\n",
    "    else:\n",
    "        parameters.append({\"params\": param, \"lr\": base_model_transformer_lr})\n",
    "\n",
    "se_lr = 1e-2\n",
    "sc_lr = 1e-2\n",
    "\n",
    "parameters.append(\n",
    "    {\"params\" : se.parameters(), \"lr\" : se_lr}\n",
    ")\n",
    "\n",
    "parameters.append(\n",
    "    {\"params\" : sc.parameters(), \"lr\" : sc_lr}\n",
    ")\n",
    "\n",
    "optimizer = optim.Adam(parameters)"
   ]
  }
 ],
 "metadata": {
  "kernelspec": {
   "display_name": "MLProj",
   "language": "python",
   "name": "python3"
  },
  "language_info": {
   "codemirror_mode": {
    "name": "ipython",
    "version": 3
   },
   "file_extension": ".py",
   "mimetype": "text/x-python",
   "name": "python",
   "nbconvert_exporter": "python",
   "pygments_lexer": "ipython3",
   "version": "3.10.14"
  }
 },
 "nbformat": 4,
 "nbformat_minor": 2
}
