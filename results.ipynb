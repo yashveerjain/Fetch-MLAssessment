{
 "cells": [
  {
   "cell_type": "markdown",
   "metadata": {},
   "source": [
    "# Fetch Assessment"
   ]
  },
  {
   "cell_type": "code",
   "execution_count": 1,
   "metadata": {},
   "outputs": [],
   "source": [
    "from utils import *\n",
    "from dataset import *"
   ]
  },
  {
   "cell_type": "code",
   "execution_count": 2,
   "metadata": {},
   "outputs": [
    {
     "name": "stderr",
     "output_type": "stream",
     "text": [
      "Using cache found in C:\\Users\\yashv/.cache\\torch\\hub\\huggingface_pytorch-transformers_main\n"
     ]
    }
   ],
   "source": [
    "dataset = TaskDataset(data=None)"
   ]
  },
  {
   "cell_type": "markdown",
   "metadata": {},
   "source": [
    "# Task 1\n",
    "Sentence Embedding Model, architecture:\n",
    " - Embedding Layer \n",
    " - Positional Encoding\n",
    " - Transformer Encoder Layer\n",
    " - Mean Pooling\n",
    " - Linear Layer (generates embedding)"
   ]
  },
  {
   "cell_type": "code",
   "execution_count": 3,
   "metadata": {},
   "outputs": [],
   "source": [
    "# initialize models\n",
    "n_layers = 1 # The number of transformer encoder layers\n",
    "d_model = 512 # The input embedding dimension\n",
    "embed_size = 300 # The output embedding size\n",
    "nhead = 8 # The number of attention heads in encoder layer\n",
    "task_type = \"se\" # The type of task (sentence embedding or sentiment classification)\n",
    "vocab_size = dataset.vocab_size # The size of the vocabulary (using hugging face bert tokenizer)\n",
    "base_model, task_model = init_model(vocab_size, n_layers, d_model, nhead, embed_size, task_type)"
   ]
  },
  {
   "cell_type": "code",
   "execution_count": 4,
   "metadata": {},
   "outputs": [
    {
     "name": "stdout",
     "output_type": "stream",
     "text": [
      "Base model output: torch.Size([2, 100, 512])\n",
      "Task model output: torch.Size([2, 300])\n",
      "Base model output 1: torch.Size([1, 7, 512])\n",
      "Base model output 2: torch.Size([1, 5, 512])\n",
      "Task model output 1: torch.Size([1, 300])\n",
      "Task model output 2: torch.Size([1, 300])\n"
     ]
    }
   ],
   "source": [
    "# Generate sample input\n",
    "input_data = torch.randint(0, dataset.vocab_size, (2, 100))\n",
    "\n",
    "# Forward pass\n",
    "base_output = base_model(input_data)\n",
    "task_output = task_model(base_output)\n",
    "\n",
    "print(\"Base model output:\", base_output.shape)\n",
    "print(\"Task model output:\", task_output.shape)\n",
    "\n",
    "# Generate input based on text\n",
    "text1 = \"How, are you?\"\n",
    "text2 = \"I am good\"\n",
    "\n",
    "input_data1 = dataset.encode(text1)\n",
    "input_data2 = dataset.encode(text2)\n",
    "\n",
    "# Forward pass\n",
    "base_output1 = base_model(input_data1)\n",
    "base_output2 = base_model(input_data2)\n",
    "task_output1 = task_model(base_output1)\n",
    "task_output2 = task_model(base_output2)\n",
    "\n",
    "print(\"Base model output 1:\", base_output1.shape)\n",
    "print(\"Base model output 2:\", base_output2.shape)\n",
    "print(\"Task model output 1:\", task_output1.shape)   \n",
    "print(\"Task model output 2:\", task_output2.shape)"
   ]
  },
  {
   "cell_type": "code",
   "execution_count": null,
   "metadata": {},
   "outputs": [],
   "source": []
  }
 ],
 "metadata": {
  "kernelspec": {
   "display_name": "MLProj",
   "language": "python",
   "name": "python3"
  },
  "language_info": {
   "codemirror_mode": {
    "name": "ipython",
    "version": 3
   },
   "file_extension": ".py",
   "mimetype": "text/x-python",
   "name": "python",
   "nbconvert_exporter": "python",
   "pygments_lexer": "ipython3",
   "version": "3.10.14"
  }
 },
 "nbformat": 4,
 "nbformat_minor": 2
}
