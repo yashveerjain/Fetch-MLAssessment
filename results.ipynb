{
 "cells": [
  {
   "cell_type": "markdown",
   "metadata": {},
   "source": [
    "# Fetch Assessment"
   ]
  },
  {
   "cell_type": "code",
   "execution_count": 1,
   "metadata": {},
   "outputs": [],
   "source": [
    "from utils import *\n",
    "from dataset import *"
   ]
  },
  {
   "cell_type": "code",
   "execution_count": 2,
   "metadata": {},
   "outputs": [
    {
     "name": "stderr",
     "output_type": "stream",
     "text": [
      "Using cache found in C:\\Users\\yashv/.cache\\torch\\hub\\huggingface_pytorch-transformers_main\n"
     ]
    }
   ],
   "source": [
    "dataset = TaskDataset(data=None)"
   ]
  },
  {
   "cell_type": "markdown",
   "metadata": {},
   "source": [
    "# Task 1\n",
    "Sentence Embedding Model, architecture:\n",
    " - Embedding Layer \n",
    " - Positional Encoding\n",
    " - Transformer Encoder Layer\n",
    " - Mean Pooling\n",
    " - Linear Layer (generates embedding)"
   ]
  },
  {
   "cell_type": "code",
   "execution_count": 12,
   "metadata": {},
   "outputs": [],
   "source": [
    "# initialize models\n",
    "n_layers = 1 # The number of transformer encoder layers\n",
    "d_model = 512 # The input embedding dimension\n",
    "embed_size = 300 # The output embedding size\n",
    "nhead = 8 # The number of attention heads in encoder layer\n",
    "task_type = \"se\" # The type of task (sentence embedding or sentiment classification)\n",
    "vocab_size = dataset.vocab_size # The size of the vocabulary (using hugging face bert tokenizer)\n",
    "base_model, task_model = init_model(vocab_size, n_layers, d_model, nhead, embed_size, task_type)"
   ]
  },
  {
   "cell_type": "code",
   "execution_count": 13,
   "metadata": {},
   "outputs": [
    {
     "name": "stdout",
     "output_type": "stream",
     "text": [
      "Base model output: torch.Size([2, 100, 512])\n",
      "Task model output: torch.Size([2, 300])\n",
      "Base model output 1: torch.Size([1, 7, 512])\n",
      "Base model output 2: torch.Size([1, 5, 512])\n",
      "Task model output 1: torch.Size([1, 300])\n",
      "Task model output 2: torch.Size([1, 300])\n",
      "Task model output 2: tensor([[-0.2726, -0.2454, -0.7493, -0.4067,  0.4283,  0.2488, -0.0580, -0.1344,\n",
      "          0.1117,  0.3108, -0.2256, -0.1204, -0.4034,  0.9493, -0.1398,  0.0463,\n",
      "         -0.2360,  0.4546,  0.7274,  0.5364, -0.8007, -0.3922,  0.1981, -0.1664,\n",
      "         -0.4728, -0.1081, -0.0227,  0.3971,  0.6595, -0.3381,  0.0288, -0.8420,\n",
      "          0.6615, -0.5636, -0.3395,  0.1633,  0.5974, -0.6506,  0.4265, -0.0961,\n",
      "         -0.2653,  0.2150, -0.3743, -0.5631, -0.1082, -0.3951, -0.8663,  0.0406,\n",
      "         -0.6262,  0.2172, -0.1110, -0.3706, -0.3270,  0.0354,  0.3387,  0.1499,\n",
      "          0.3395,  0.4351, -0.2827,  0.1397,  0.2028, -0.4214,  0.4366, -0.3335,\n",
      "         -0.0480,  0.1418,  0.0043,  0.2354, -0.1562,  0.3049,  0.1841,  0.9009,\n",
      "         -0.1173,  0.3076,  0.1548,  0.8187, -0.0808, -0.0569, -0.2082, -0.4935,\n",
      "          0.0144,  0.1256, -0.1407, -0.3530, -0.9119,  0.0193,  0.1611, -0.0490,\n",
      "          0.0558,  0.3624, -0.1219, -0.0505,  0.0956,  0.3642,  0.0663,  0.0668,\n",
      "         -0.0213,  0.2873,  0.2197,  0.0859,  0.5026, -0.5980, -0.2110, -0.2262,\n",
      "         -0.3632, -0.2352,  0.8398,  0.0065, -0.6691,  0.3474, -0.0208,  0.3493,\n",
      "         -0.1996,  0.1401, -0.9755,  0.2085, -0.5088,  0.1117,  0.0184,  0.2424,\n",
      "          0.3600,  0.1109, -0.0326, -0.0412,  0.0300, -0.4540, -0.6256, -0.4389,\n",
      "         -0.0197, -0.0173, -0.0150, -0.1819, -0.1934,  0.2760,  0.2321,  0.4070,\n",
      "         -0.0418,  0.4504, -0.0886,  0.0807,  0.3800, -0.3607,  0.0232,  0.0623,\n",
      "          0.2421, -0.0346,  0.0777, -0.7773,  0.1519,  0.1791,  0.4207,  0.7614,\n",
      "         -0.4981,  0.0338,  0.4586, -0.0193,  0.4402, -0.5116, -0.0598,  0.1194,\n",
      "         -0.1736, -0.0062,  0.0447, -0.3417, -0.2587, -0.0257,  0.0062, -0.3005,\n",
      "         -0.1780,  0.1029,  0.3537, -0.0117, -0.2244,  0.2502, -0.1476, -0.5349,\n",
      "          0.3330,  0.2604, -0.0127,  0.0678,  0.0079,  0.6165, -0.0711, -0.4330,\n",
      "          0.0945,  0.4773,  0.2829, -0.3310,  0.5332, -0.3316,  0.4131, -0.2985,\n",
      "          0.5596, -0.0474, -0.6313, -0.1476,  0.0117, -0.7645,  0.4377,  0.0025,\n",
      "         -0.0765, -0.0120, -0.3728, -0.8490,  0.0457, -0.0300,  0.3992, -0.6201,\n",
      "         -0.0447,  0.2000,  0.0771, -0.4165, -0.3748, -0.4241,  0.0269, -0.0747,\n",
      "         -0.0821, -0.2466,  0.6905,  0.3757,  1.4272,  0.6981, -0.5059,  0.2592,\n",
      "         -0.0321, -0.8643, -0.2002, -0.3577, -0.2652,  0.4199, -0.0037, -0.4817,\n",
      "          0.1914,  0.1680,  0.5680,  0.3967,  0.5357,  0.2730, -0.5210, -0.2455,\n",
      "         -0.0947, -0.2003, -0.2706,  0.1840, -0.3643,  0.1917, -0.4422, -0.4171,\n",
      "         -0.1060, -0.2235, -0.4879,  0.6085, -0.2602, -0.3079, -0.2772,  0.5543,\n",
      "         -0.2335,  0.6824, -0.1340,  0.0750,  0.0513,  0.4352, -0.2539, -0.2053,\n",
      "          0.2476,  0.2329, -0.0289,  0.2337, -0.7857, -0.1001, -0.1721, -0.1603,\n",
      "          0.3397, -0.2095,  0.7692, -0.4930,  0.1954,  0.3155, -0.4733, -0.1558,\n",
      "         -0.5226,  0.1877,  0.3854,  0.1742,  0.0287,  0.2473, -0.0525,  0.1532,\n",
      "          0.2642, -0.2801, -0.7351,  0.2643, -0.4324, -0.5662, -0.4338, -0.4608,\n",
      "         -0.0268, -0.0982, -0.0375, -0.4900]], grad_fn=<AddmmBackward0>)\n"
     ]
    }
   ],
   "source": [
    "# Generate sample input\n",
    "input_data = torch.randint(0, dataset.vocab_size, (2, 100))\n",
    "\n",
    "# Forward pass\n",
    "base_output = base_model(input_data)\n",
    "task_output = task_model(base_output)\n",
    "\n",
    "print(\"Base model output:\", base_output.shape)\n",
    "print(\"Task model output:\", task_output.shape)\n",
    "\n",
    "# Generate input based on text\n",
    "text1 = \"How, are you?\"\n",
    "text2 = \"I am good\"\n",
    "\n",
    "input_data1 = dataset.encode(text1)\n",
    "input_data2 = dataset.encode(text2)\n",
    "\n",
    "# Forward pass\n",
    "base_output1 = base_model(input_data1)\n",
    "base_output2 = base_model(input_data2)\n",
    "task_output1 = task_model(base_output1)\n",
    "task_output2 = task_model(base_output2)\n",
    "\n",
    "print(\"Base model output 1:\", base_output1.shape)\n",
    "print(\"Base model output 2:\", base_output2.shape)\n",
    "print(\"Task model output 1:\", task_output1.shape)   \n",
    "print(\"Task model output 2:\", task_output2.shape)\n",
    "print(\"Task model output 2:\", task_output2)"
   ]
  },
  {
   "cell_type": "markdown",
   "metadata": {},
   "source": [
    "# Task 2\n",
    "Sentiment Classification Model, architecture:\n",
    " - Embedding Layer\n",
    " - Positional Encoding\n",
    " - Transformer Encoder Layer\n",
    " - Mean Pooling\n",
    " - Linear Layer (3 classes, Positive, Negative, Neutral) ( can be trained using cross entropy loss)"
   ]
  },
  {
   "cell_type": "code",
   "execution_count": 5,
   "metadata": {},
   "outputs": [],
   "source": [
    "task_type = \"sc\"\n",
    "base_model, task_model = init_model(vocab_size, n_layers, d_model, nhead, embed_size, task_type)"
   ]
  },
  {
   "cell_type": "code",
   "execution_count": 10,
   "metadata": {},
   "outputs": [
    {
     "name": "stdout",
     "output_type": "stream",
     "text": [
      "Base model output: torch.Size([2, 100, 512])\n",
      "Task model output: (2, 3)\n",
      "Task model output: [[0.24638513 0.22836564 0.52524924]\n",
      " [0.24191225 0.2560569  0.5020308 ]]\n",
      "Base model output 1: torch.Size([1, 7, 512])\n",
      "Base model output 2: torch.Size([1, 5, 512])\n",
      "Task model output 1: (1, 3)\n",
      "Task model output 2: (1, 3)\n"
     ]
    }
   ],
   "source": [
    "# Generate sample input\n",
    "input_data = torch.randint(0, dataset.vocab_size, (2, 100))\n",
    "\n",
    "# Forward pass\n",
    "base_output = base_model(input_data)\n",
    "task_output = task_model(base_output)\n",
    "task_output = nn.Softmax(dim=1)(task_output).detach().numpy()\n",
    "\n",
    "print(\"Base model output:\", base_output.shape)\n",
    "print(\"Task model output:\", task_output.shape)\n",
    "print(\"Task model output:\", task_output)\n",
    "\n",
    "# Generate input based on text\n",
    "text1 = \"How, are you?\"\n",
    "text2 = \"I am good\"\n",
    "\n",
    "input_data1 = dataset.encode(text1)\n",
    "input_data2 = dataset.encode(text2)\n",
    "\n",
    "# Forward pass\n",
    "base_output1 = base_model(input_data1)\n",
    "base_output2 = base_model(input_data2)\n",
    "task_output1 = task_model(base_output1)\n",
    "task_output2 = task_model(base_output2)\n",
    "\n",
    "task_output1 = nn.Softmax(dim=1)(task_output1).detach().numpy()\n",
    "task_output2 = nn.Softmax(dim=1)(task_output2).detach().numpy()\n",
    "\n",
    "print(\"Base model output 1:\", base_output1.shape)\n",
    "print(\"Base model output 2:\", base_output2.shape)\n",
    "print(\"Task model output 1:\", task_output1.shape)   \n",
    "print(\"Task model output 2:\", task_output2.shape)"
   ]
  },
  {
   "cell_type": "code",
   "execution_count": null,
   "metadata": {},
   "outputs": [],
   "source": []
  }
 ],
 "metadata": {
  "kernelspec": {
   "display_name": "MLProj",
   "language": "python",
   "name": "python3"
  },
  "language_info": {
   "codemirror_mode": {
    "name": "ipython",
    "version": 3
   },
   "file_extension": ".py",
   "mimetype": "text/x-python",
   "name": "python",
   "nbconvert_exporter": "python",
   "pygments_lexer": "ipython3",
   "version": "3.10.14"
  }
 },
 "nbformat": 4,
 "nbformat_minor": 2
}
